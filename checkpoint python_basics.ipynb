{
 "cells": [
  {
   "cell_type": "code",
   "execution_count": 9,
   "id": "91d50d7e",
   "metadata": {},
   "outputs": [],
   "source": [
    "def exercice1():\n",
    "    name=input(\"Enter the user's first and last name: \")\n",
    "    name_s=name.split(\" \")\n",
    "    name_f=\" \".join(name_s[::-1])\n",
    "    print(name_f)"
   ]
  },
  {
   "cell_type": "code",
   "execution_count": 10,
   "id": "7dbe5266",
   "metadata": {},
   "outputs": [
    {
     "name": "stdout",
     "output_type": "stream",
     "text": [
      "Enter the user's first and last name: elyes marzouki\n",
      "marzouki elyes\n"
     ]
    }
   ],
   "source": [
    "exercice1()"
   ]
  },
  {
   "cell_type": "code",
   "execution_count": 13,
   "id": "87724f24",
   "metadata": {},
   "outputs": [],
   "source": [
    "def exercice2(n):\n",
    "    print(n+n*11+n*111)"
   ]
  },
  {
   "cell_type": "code",
   "execution_count": 14,
   "id": "4b989a3c",
   "metadata": {},
   "outputs": [
    {
     "name": "stdout",
     "output_type": "stream",
     "text": [
      "615\n"
     ]
    }
   ],
   "source": [
    "exercice2(5)"
   ]
  },
  {
   "cell_type": "code",
   "execution_count": 26,
   "id": "7e7fb6a1",
   "metadata": {},
   "outputs": [],
   "source": [
    "def exercice3():\n",
    "    number=int(input(\"Enter a number: \"))\n",
    "    if number%2==0:\n",
    "        print(str(number)+\" : est pair\")\n",
    "    else:\n",
    "        print(str(number)+\" : est impair\")"
   ]
  },
  {
   "cell_type": "code",
   "execution_count": 28,
   "id": "e2fa5857",
   "metadata": {},
   "outputs": [
    {
     "name": "stdout",
     "output_type": "stream",
     "text": [
      "Enter a number: 6\n",
      "6 : est pair\n"
     ]
    }
   ],
   "source": [
    "exercice3()"
   ]
  },
  {
   "cell_type": "code",
   "execution_count": 29,
   "id": "7072105a",
   "metadata": {},
   "outputs": [],
   "source": [
    "def exercice4():\n",
    "    for i in range(2000,3201):\n",
    "        if i%7==0 and i%5!=0:\n",
    "            print(i)"
   ]
  },
  {
   "cell_type": "code",
   "execution_count": 30,
   "id": "1021101f",
   "metadata": {},
   "outputs": [
    {
     "name": "stdout",
     "output_type": "stream",
     "text": [
      "2002\n",
      "2009\n",
      "2016\n",
      "2023\n",
      "2037\n",
      "2044\n",
      "2051\n",
      "2058\n",
      "2072\n",
      "2079\n",
      "2086\n",
      "2093\n",
      "2107\n",
      "2114\n",
      "2121\n",
      "2128\n",
      "2142\n",
      "2149\n",
      "2156\n",
      "2163\n",
      "2177\n",
      "2184\n",
      "2191\n",
      "2198\n",
      "2212\n",
      "2219\n",
      "2226\n",
      "2233\n",
      "2247\n",
      "2254\n",
      "2261\n",
      "2268\n",
      "2282\n",
      "2289\n",
      "2296\n",
      "2303\n",
      "2317\n",
      "2324\n",
      "2331\n",
      "2338\n",
      "2352\n",
      "2359\n",
      "2366\n",
      "2373\n",
      "2387\n",
      "2394\n",
      "2401\n",
      "2408\n",
      "2422\n",
      "2429\n",
      "2436\n",
      "2443\n",
      "2457\n",
      "2464\n",
      "2471\n",
      "2478\n",
      "2492\n",
      "2499\n",
      "2506\n",
      "2513\n",
      "2527\n",
      "2534\n",
      "2541\n",
      "2548\n",
      "2562\n",
      "2569\n",
      "2576\n",
      "2583\n",
      "2597\n",
      "2604\n",
      "2611\n",
      "2618\n",
      "2632\n",
      "2639\n",
      "2646\n",
      "2653\n",
      "2667\n",
      "2674\n",
      "2681\n",
      "2688\n",
      "2702\n",
      "2709\n",
      "2716\n",
      "2723\n",
      "2737\n",
      "2744\n",
      "2751\n",
      "2758\n",
      "2772\n",
      "2779\n",
      "2786\n",
      "2793\n",
      "2807\n",
      "2814\n",
      "2821\n",
      "2828\n",
      "2842\n",
      "2849\n",
      "2856\n",
      "2863\n",
      "2877\n",
      "2884\n",
      "2891\n",
      "2898\n",
      "2912\n",
      "2919\n",
      "2926\n",
      "2933\n",
      "2947\n",
      "2954\n",
      "2961\n",
      "2968\n",
      "2982\n",
      "2989\n",
      "2996\n",
      "3003\n",
      "3017\n",
      "3024\n",
      "3031\n",
      "3038\n",
      "3052\n",
      "3059\n",
      "3066\n",
      "3073\n",
      "3087\n",
      "3094\n",
      "3101\n",
      "3108\n",
      "3122\n",
      "3129\n",
      "3136\n",
      "3143\n",
      "3157\n",
      "3164\n",
      "3171\n",
      "3178\n",
      "3192\n",
      "3199\n"
     ]
    }
   ],
   "source": [
    "exercice4()"
   ]
  },
  {
   "cell_type": "code",
   "execution_count": 33,
   "id": "9110a115",
   "metadata": {},
   "outputs": [],
   "source": [
    "def exercice5(n):\n",
    "    if n==0:\n",
    "        return 1\n",
    "    else:\n",
    "        return n*exercice5(n-1)"
   ]
  },
  {
   "cell_type": "code",
   "execution_count": 34,
   "id": "942f9eb1",
   "metadata": {},
   "outputs": [
    {
     "data": {
      "text/plain": [
       "40320"
      ]
     },
     "execution_count": 34,
     "metadata": {},
     "output_type": "execute_result"
    }
   ],
   "source": [
    "exercice5(8)"
   ]
  },
  {
   "cell_type": "code",
   "execution_count": 35,
   "id": "24d60090",
   "metadata": {},
   "outputs": [],
   "source": [
    "def exercice6(s):\n",
    "    r =\"\"\n",
    "    for i in range(len(s)):\n",
    "        if i%2==0:\n",
    "            r += s[i]\n",
    "    return r"
   ]
  },
  {
   "cell_type": "code",
   "execution_count": 36,
   "id": "77763bba",
   "metadata": {},
   "outputs": [
    {
     "data": {
      "text/plain": [
       "'bnortu emne'"
      ]
     },
     "execution_count": 36,
     "metadata": {},
     "output_type": "execute_result"
    }
   ],
   "source": [
    "exercice6(\"bonjour tout le monde\")"
   ]
  },
  {
   "cell_type": "code",
   "execution_count": 37,
   "id": "466074ac",
   "metadata": {},
   "outputs": [],
   "source": [
    "def exercice7(p):\n",
    "    if p > 500:\n",
    "        p = p -p*0.5\n",
    "    elif 200 <= p < 500:\n",
    "        p = p -p*0.3\n",
    "    elif p < 200:\n",
    "        p= p -p*0.1\n",
    "    return p"
   ]
  },
  {
   "cell_type": "code",
   "execution_count": 40,
   "id": "451a6515",
   "metadata": {},
   "outputs": [
    {
     "data": {
      "text/plain": [
       "90.0"
      ]
     },
     "execution_count": 40,
     "metadata": {},
     "output_type": "execute_result"
    }
   ],
   "source": [
    "exercice7(100)"
   ]
  },
  {
   "cell_type": "code",
   "execution_count": null,
   "id": "52d8abba",
   "metadata": {},
   "outputs": [],
   "source": []
  }
 ],
 "metadata": {
  "kernelspec": {
   "display_name": "Python 3 (ipykernel)",
   "language": "python",
   "name": "python3"
  },
  "language_info": {
   "codemirror_mode": {
    "name": "ipython",
    "version": 3
   },
   "file_extension": ".py",
   "mimetype": "text/x-python",
   "name": "python",
   "nbconvert_exporter": "python",
   "pygments_lexer": "ipython3",
   "version": "3.9.13"
  }
 },
 "nbformat": 4,
 "nbformat_minor": 5
}
